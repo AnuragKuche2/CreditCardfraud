{
 "cells": [
  {
   "cell_type": "code",
   "execution_count": 1,
   "metadata": {},
   "outputs": [],
   "source": [
    "import numpy as np\n",
    "import pandas as pd \n",
    "import matplotlib.pyplot as plt\n",
    "import seaborn as sns"
   ]
  },
  {
   "cell_type": "code",
   "execution_count": 29,
   "metadata": {},
   "outputs": [
    {
     "data": {
      "text/html": [
       "<div>\n",
       "<style scoped>\n",
       "    .dataframe tbody tr th:only-of-type {\n",
       "        vertical-align: middle;\n",
       "    }\n",
       "\n",
       "    .dataframe tbody tr th {\n",
       "        vertical-align: top;\n",
       "    }\n",
       "\n",
       "    .dataframe thead th {\n",
       "        text-align: right;\n",
       "    }\n",
       "</style>\n",
       "<table border=\"1\" class=\"dataframe\">\n",
       "  <thead>\n",
       "    <tr style=\"text-align: right;\">\n",
       "      <th></th>\n",
       "      <th>Time</th>\n",
       "      <th>V1</th>\n",
       "      <th>V2</th>\n",
       "      <th>V3</th>\n",
       "      <th>V4</th>\n",
       "      <th>V5</th>\n",
       "      <th>V6</th>\n",
       "      <th>V7</th>\n",
       "      <th>V8</th>\n",
       "      <th>V9</th>\n",
       "      <th>...</th>\n",
       "      <th>V21</th>\n",
       "      <th>V22</th>\n",
       "      <th>V23</th>\n",
       "      <th>V24</th>\n",
       "      <th>V25</th>\n",
       "      <th>V26</th>\n",
       "      <th>V27</th>\n",
       "      <th>V28</th>\n",
       "      <th>Amount</th>\n",
       "      <th>Class</th>\n",
       "    </tr>\n",
       "  </thead>\n",
       "  <tbody>\n",
       "    <tr>\n",
       "      <th>0</th>\n",
       "      <td>0.0</td>\n",
       "      <td>-1.359807</td>\n",
       "      <td>-0.072781</td>\n",
       "      <td>2.536347</td>\n",
       "      <td>1.378155</td>\n",
       "      <td>-0.338321</td>\n",
       "      <td>0.462388</td>\n",
       "      <td>0.239599</td>\n",
       "      <td>0.098698</td>\n",
       "      <td>0.363787</td>\n",
       "      <td>...</td>\n",
       "      <td>-0.018307</td>\n",
       "      <td>0.277838</td>\n",
       "      <td>-0.110474</td>\n",
       "      <td>0.066928</td>\n",
       "      <td>0.128539</td>\n",
       "      <td>-0.189115</td>\n",
       "      <td>0.133558</td>\n",
       "      <td>-0.021053</td>\n",
       "      <td>149.62</td>\n",
       "      <td>0</td>\n",
       "    </tr>\n",
       "    <tr>\n",
       "      <th>1</th>\n",
       "      <td>0.0</td>\n",
       "      <td>1.191857</td>\n",
       "      <td>0.266151</td>\n",
       "      <td>0.166480</td>\n",
       "      <td>0.448154</td>\n",
       "      <td>0.060018</td>\n",
       "      <td>-0.082361</td>\n",
       "      <td>-0.078803</td>\n",
       "      <td>0.085102</td>\n",
       "      <td>-0.255425</td>\n",
       "      <td>...</td>\n",
       "      <td>-0.225775</td>\n",
       "      <td>-0.638672</td>\n",
       "      <td>0.101288</td>\n",
       "      <td>-0.339846</td>\n",
       "      <td>0.167170</td>\n",
       "      <td>0.125895</td>\n",
       "      <td>-0.008983</td>\n",
       "      <td>0.014724</td>\n",
       "      <td>2.69</td>\n",
       "      <td>0</td>\n",
       "    </tr>\n",
       "    <tr>\n",
       "      <th>2</th>\n",
       "      <td>1.0</td>\n",
       "      <td>-1.358354</td>\n",
       "      <td>-1.340163</td>\n",
       "      <td>1.773209</td>\n",
       "      <td>0.379780</td>\n",
       "      <td>-0.503198</td>\n",
       "      <td>1.800499</td>\n",
       "      <td>0.791461</td>\n",
       "      <td>0.247676</td>\n",
       "      <td>-1.514654</td>\n",
       "      <td>...</td>\n",
       "      <td>0.247998</td>\n",
       "      <td>0.771679</td>\n",
       "      <td>0.909412</td>\n",
       "      <td>-0.689281</td>\n",
       "      <td>-0.327642</td>\n",
       "      <td>-0.139097</td>\n",
       "      <td>-0.055353</td>\n",
       "      <td>-0.059752</td>\n",
       "      <td>378.66</td>\n",
       "      <td>0</td>\n",
       "    </tr>\n",
       "    <tr>\n",
       "      <th>3</th>\n",
       "      <td>1.0</td>\n",
       "      <td>-0.966272</td>\n",
       "      <td>-0.185226</td>\n",
       "      <td>1.792993</td>\n",
       "      <td>-0.863291</td>\n",
       "      <td>-0.010309</td>\n",
       "      <td>1.247203</td>\n",
       "      <td>0.237609</td>\n",
       "      <td>0.377436</td>\n",
       "      <td>-1.387024</td>\n",
       "      <td>...</td>\n",
       "      <td>-0.108300</td>\n",
       "      <td>0.005274</td>\n",
       "      <td>-0.190321</td>\n",
       "      <td>-1.175575</td>\n",
       "      <td>0.647376</td>\n",
       "      <td>-0.221929</td>\n",
       "      <td>0.062723</td>\n",
       "      <td>0.061458</td>\n",
       "      <td>123.50</td>\n",
       "      <td>0</td>\n",
       "    </tr>\n",
       "    <tr>\n",
       "      <th>4</th>\n",
       "      <td>2.0</td>\n",
       "      <td>-1.158233</td>\n",
       "      <td>0.877737</td>\n",
       "      <td>1.548718</td>\n",
       "      <td>0.403034</td>\n",
       "      <td>-0.407193</td>\n",
       "      <td>0.095921</td>\n",
       "      <td>0.592941</td>\n",
       "      <td>-0.270533</td>\n",
       "      <td>0.817739</td>\n",
       "      <td>...</td>\n",
       "      <td>-0.009431</td>\n",
       "      <td>0.798278</td>\n",
       "      <td>-0.137458</td>\n",
       "      <td>0.141267</td>\n",
       "      <td>-0.206010</td>\n",
       "      <td>0.502292</td>\n",
       "      <td>0.219422</td>\n",
       "      <td>0.215153</td>\n",
       "      <td>69.99</td>\n",
       "      <td>0</td>\n",
       "    </tr>\n",
       "  </tbody>\n",
       "</table>\n",
       "<p>5 rows × 31 columns</p>\n",
       "</div>"
      ],
      "text/plain": [
       "   Time        V1        V2        V3        V4        V5        V6        V7  \\\n",
       "0   0.0 -1.359807 -0.072781  2.536347  1.378155 -0.338321  0.462388  0.239599   \n",
       "1   0.0  1.191857  0.266151  0.166480  0.448154  0.060018 -0.082361 -0.078803   \n",
       "2   1.0 -1.358354 -1.340163  1.773209  0.379780 -0.503198  1.800499  0.791461   \n",
       "3   1.0 -0.966272 -0.185226  1.792993 -0.863291 -0.010309  1.247203  0.237609   \n",
       "4   2.0 -1.158233  0.877737  1.548718  0.403034 -0.407193  0.095921  0.592941   \n",
       "\n",
       "         V8        V9  ...       V21       V22       V23       V24       V25  \\\n",
       "0  0.098698  0.363787  ... -0.018307  0.277838 -0.110474  0.066928  0.128539   \n",
       "1  0.085102 -0.255425  ... -0.225775 -0.638672  0.101288 -0.339846  0.167170   \n",
       "2  0.247676 -1.514654  ...  0.247998  0.771679  0.909412 -0.689281 -0.327642   \n",
       "3  0.377436 -1.387024  ... -0.108300  0.005274 -0.190321 -1.175575  0.647376   \n",
       "4 -0.270533  0.817739  ... -0.009431  0.798278 -0.137458  0.141267 -0.206010   \n",
       "\n",
       "        V26       V27       V28  Amount  Class  \n",
       "0 -0.189115  0.133558 -0.021053  149.62      0  \n",
       "1  0.125895 -0.008983  0.014724    2.69      0  \n",
       "2 -0.139097 -0.055353 -0.059752  378.66      0  \n",
       "3 -0.221929  0.062723  0.061458  123.50      0  \n",
       "4  0.502292  0.219422  0.215153   69.99      0  \n",
       "\n",
       "[5 rows x 31 columns]"
      ]
     },
     "execution_count": 29,
     "metadata": {},
     "output_type": "execute_result"
    }
   ],
   "source": [
    "df = pd.read_csv('creditcard.csv')\n",
    "df.head()"
   ]
  },
  {
   "cell_type": "code",
   "execution_count": 30,
   "metadata": {},
   "outputs": [
    {
     "name": "stdout",
     "output_type": "stream",
     "text": [
      "<class 'pandas.core.frame.DataFrame'>\n",
      "RangeIndex: 284807 entries, 0 to 284806\n",
      "Data columns (total 31 columns):\n",
      " #   Column  Non-Null Count   Dtype  \n",
      "---  ------  --------------   -----  \n",
      " 0   Time    284807 non-null  float64\n",
      " 1   V1      284807 non-null  float64\n",
      " 2   V2      284807 non-null  float64\n",
      " 3   V3      284807 non-null  float64\n",
      " 4   V4      284807 non-null  float64\n",
      " 5   V5      284807 non-null  float64\n",
      " 6   V6      284807 non-null  float64\n",
      " 7   V7      284807 non-null  float64\n",
      " 8   V8      284807 non-null  float64\n",
      " 9   V9      284807 non-null  float64\n",
      " 10  V10     284807 non-null  float64\n",
      " 11  V11     284807 non-null  float64\n",
      " 12  V12     284807 non-null  float64\n",
      " 13  V13     284807 non-null  float64\n",
      " 14  V14     284807 non-null  float64\n",
      " 15  V15     284807 non-null  float64\n",
      " 16  V16     284807 non-null  float64\n",
      " 17  V17     284807 non-null  float64\n",
      " 18  V18     284807 non-null  float64\n",
      " 19  V19     284807 non-null  float64\n",
      " 20  V20     284807 non-null  float64\n",
      " 21  V21     284807 non-null  float64\n",
      " 22  V22     284807 non-null  float64\n",
      " 23  V23     284807 non-null  float64\n",
      " 24  V24     284807 non-null  float64\n",
      " 25  V25     284807 non-null  float64\n",
      " 26  V26     284807 non-null  float64\n",
      " 27  V27     284807 non-null  float64\n",
      " 28  V28     284807 non-null  float64\n",
      " 29  Amount  284807 non-null  float64\n",
      " 30  Class   284807 non-null  int64  \n",
      "dtypes: float64(30), int64(1)\n",
      "memory usage: 67.4 MB\n"
     ]
    }
   ],
   "source": [
    "df.info()"
   ]
  },
  {
   "cell_type": "code",
   "execution_count": 31,
   "metadata": {},
   "outputs": [
    {
     "data": {
      "text/html": [
       "<div>\n",
       "<style scoped>\n",
       "    .dataframe tbody tr th:only-of-type {\n",
       "        vertical-align: middle;\n",
       "    }\n",
       "\n",
       "    .dataframe tbody tr th {\n",
       "        vertical-align: top;\n",
       "    }\n",
       "\n",
       "    .dataframe thead th {\n",
       "        text-align: right;\n",
       "    }\n",
       "</style>\n",
       "<table border=\"1\" class=\"dataframe\">\n",
       "  <thead>\n",
       "    <tr style=\"text-align: right;\">\n",
       "      <th></th>\n",
       "      <th>Time</th>\n",
       "      <th>V1</th>\n",
       "      <th>V2</th>\n",
       "      <th>V3</th>\n",
       "      <th>V4</th>\n",
       "      <th>V5</th>\n",
       "      <th>V6</th>\n",
       "      <th>V7</th>\n",
       "      <th>V8</th>\n",
       "      <th>V9</th>\n",
       "      <th>...</th>\n",
       "      <th>V21</th>\n",
       "      <th>V22</th>\n",
       "      <th>V23</th>\n",
       "      <th>V24</th>\n",
       "      <th>V25</th>\n",
       "      <th>V26</th>\n",
       "      <th>V27</th>\n",
       "      <th>V28</th>\n",
       "      <th>Amount</th>\n",
       "      <th>Class</th>\n",
       "    </tr>\n",
       "  </thead>\n",
       "  <tbody>\n",
       "    <tr>\n",
       "      <th>count</th>\n",
       "      <td>284807.000000</td>\n",
       "      <td>2.848070e+05</td>\n",
       "      <td>2.848070e+05</td>\n",
       "      <td>2.848070e+05</td>\n",
       "      <td>2.848070e+05</td>\n",
       "      <td>2.848070e+05</td>\n",
       "      <td>2.848070e+05</td>\n",
       "      <td>2.848070e+05</td>\n",
       "      <td>2.848070e+05</td>\n",
       "      <td>2.848070e+05</td>\n",
       "      <td>...</td>\n",
       "      <td>2.848070e+05</td>\n",
       "      <td>2.848070e+05</td>\n",
       "      <td>2.848070e+05</td>\n",
       "      <td>2.848070e+05</td>\n",
       "      <td>2.848070e+05</td>\n",
       "      <td>2.848070e+05</td>\n",
       "      <td>2.848070e+05</td>\n",
       "      <td>2.848070e+05</td>\n",
       "      <td>284807.000000</td>\n",
       "      <td>284807.000000</td>\n",
       "    </tr>\n",
       "    <tr>\n",
       "      <th>mean</th>\n",
       "      <td>94813.859575</td>\n",
       "      <td>3.919560e-15</td>\n",
       "      <td>5.688174e-16</td>\n",
       "      <td>-8.769071e-15</td>\n",
       "      <td>2.782312e-15</td>\n",
       "      <td>-1.552563e-15</td>\n",
       "      <td>2.010663e-15</td>\n",
       "      <td>-1.694249e-15</td>\n",
       "      <td>-1.927028e-16</td>\n",
       "      <td>-3.137024e-15</td>\n",
       "      <td>...</td>\n",
       "      <td>1.537294e-16</td>\n",
       "      <td>7.959909e-16</td>\n",
       "      <td>5.367590e-16</td>\n",
       "      <td>4.458112e-15</td>\n",
       "      <td>1.453003e-15</td>\n",
       "      <td>1.699104e-15</td>\n",
       "      <td>-3.660161e-16</td>\n",
       "      <td>-1.206049e-16</td>\n",
       "      <td>88.349619</td>\n",
       "      <td>0.001727</td>\n",
       "    </tr>\n",
       "    <tr>\n",
       "      <th>std</th>\n",
       "      <td>47488.145955</td>\n",
       "      <td>1.958696e+00</td>\n",
       "      <td>1.651309e+00</td>\n",
       "      <td>1.516255e+00</td>\n",
       "      <td>1.415869e+00</td>\n",
       "      <td>1.380247e+00</td>\n",
       "      <td>1.332271e+00</td>\n",
       "      <td>1.237094e+00</td>\n",
       "      <td>1.194353e+00</td>\n",
       "      <td>1.098632e+00</td>\n",
       "      <td>...</td>\n",
       "      <td>7.345240e-01</td>\n",
       "      <td>7.257016e-01</td>\n",
       "      <td>6.244603e-01</td>\n",
       "      <td>6.056471e-01</td>\n",
       "      <td>5.212781e-01</td>\n",
       "      <td>4.822270e-01</td>\n",
       "      <td>4.036325e-01</td>\n",
       "      <td>3.300833e-01</td>\n",
       "      <td>250.120109</td>\n",
       "      <td>0.041527</td>\n",
       "    </tr>\n",
       "    <tr>\n",
       "      <th>min</th>\n",
       "      <td>0.000000</td>\n",
       "      <td>-5.640751e+01</td>\n",
       "      <td>-7.271573e+01</td>\n",
       "      <td>-4.832559e+01</td>\n",
       "      <td>-5.683171e+00</td>\n",
       "      <td>-1.137433e+02</td>\n",
       "      <td>-2.616051e+01</td>\n",
       "      <td>-4.355724e+01</td>\n",
       "      <td>-7.321672e+01</td>\n",
       "      <td>-1.343407e+01</td>\n",
       "      <td>...</td>\n",
       "      <td>-3.483038e+01</td>\n",
       "      <td>-1.093314e+01</td>\n",
       "      <td>-4.480774e+01</td>\n",
       "      <td>-2.836627e+00</td>\n",
       "      <td>-1.029540e+01</td>\n",
       "      <td>-2.604551e+00</td>\n",
       "      <td>-2.256568e+01</td>\n",
       "      <td>-1.543008e+01</td>\n",
       "      <td>0.000000</td>\n",
       "      <td>0.000000</td>\n",
       "    </tr>\n",
       "    <tr>\n",
       "      <th>25%</th>\n",
       "      <td>54201.500000</td>\n",
       "      <td>-9.203734e-01</td>\n",
       "      <td>-5.985499e-01</td>\n",
       "      <td>-8.903648e-01</td>\n",
       "      <td>-8.486401e-01</td>\n",
       "      <td>-6.915971e-01</td>\n",
       "      <td>-7.682956e-01</td>\n",
       "      <td>-5.540759e-01</td>\n",
       "      <td>-2.086297e-01</td>\n",
       "      <td>-6.430976e-01</td>\n",
       "      <td>...</td>\n",
       "      <td>-2.283949e-01</td>\n",
       "      <td>-5.423504e-01</td>\n",
       "      <td>-1.618463e-01</td>\n",
       "      <td>-3.545861e-01</td>\n",
       "      <td>-3.171451e-01</td>\n",
       "      <td>-3.269839e-01</td>\n",
       "      <td>-7.083953e-02</td>\n",
       "      <td>-5.295979e-02</td>\n",
       "      <td>5.600000</td>\n",
       "      <td>0.000000</td>\n",
       "    </tr>\n",
       "    <tr>\n",
       "      <th>50%</th>\n",
       "      <td>84692.000000</td>\n",
       "      <td>1.810880e-02</td>\n",
       "      <td>6.548556e-02</td>\n",
       "      <td>1.798463e-01</td>\n",
       "      <td>-1.984653e-02</td>\n",
       "      <td>-5.433583e-02</td>\n",
       "      <td>-2.741871e-01</td>\n",
       "      <td>4.010308e-02</td>\n",
       "      <td>2.235804e-02</td>\n",
       "      <td>-5.142873e-02</td>\n",
       "      <td>...</td>\n",
       "      <td>-2.945017e-02</td>\n",
       "      <td>6.781943e-03</td>\n",
       "      <td>-1.119293e-02</td>\n",
       "      <td>4.097606e-02</td>\n",
       "      <td>1.659350e-02</td>\n",
       "      <td>-5.213911e-02</td>\n",
       "      <td>1.342146e-03</td>\n",
       "      <td>1.124383e-02</td>\n",
       "      <td>22.000000</td>\n",
       "      <td>0.000000</td>\n",
       "    </tr>\n",
       "    <tr>\n",
       "      <th>75%</th>\n",
       "      <td>139320.500000</td>\n",
       "      <td>1.315642e+00</td>\n",
       "      <td>8.037239e-01</td>\n",
       "      <td>1.027196e+00</td>\n",
       "      <td>7.433413e-01</td>\n",
       "      <td>6.119264e-01</td>\n",
       "      <td>3.985649e-01</td>\n",
       "      <td>5.704361e-01</td>\n",
       "      <td>3.273459e-01</td>\n",
       "      <td>5.971390e-01</td>\n",
       "      <td>...</td>\n",
       "      <td>1.863772e-01</td>\n",
       "      <td>5.285536e-01</td>\n",
       "      <td>1.476421e-01</td>\n",
       "      <td>4.395266e-01</td>\n",
       "      <td>3.507156e-01</td>\n",
       "      <td>2.409522e-01</td>\n",
       "      <td>9.104512e-02</td>\n",
       "      <td>7.827995e-02</td>\n",
       "      <td>77.165000</td>\n",
       "      <td>0.000000</td>\n",
       "    </tr>\n",
       "    <tr>\n",
       "      <th>max</th>\n",
       "      <td>172792.000000</td>\n",
       "      <td>2.454930e+00</td>\n",
       "      <td>2.205773e+01</td>\n",
       "      <td>9.382558e+00</td>\n",
       "      <td>1.687534e+01</td>\n",
       "      <td>3.480167e+01</td>\n",
       "      <td>7.330163e+01</td>\n",
       "      <td>1.205895e+02</td>\n",
       "      <td>2.000721e+01</td>\n",
       "      <td>1.559499e+01</td>\n",
       "      <td>...</td>\n",
       "      <td>2.720284e+01</td>\n",
       "      <td>1.050309e+01</td>\n",
       "      <td>2.252841e+01</td>\n",
       "      <td>4.584549e+00</td>\n",
       "      <td>7.519589e+00</td>\n",
       "      <td>3.517346e+00</td>\n",
       "      <td>3.161220e+01</td>\n",
       "      <td>3.384781e+01</td>\n",
       "      <td>25691.160000</td>\n",
       "      <td>1.000000</td>\n",
       "    </tr>\n",
       "  </tbody>\n",
       "</table>\n",
       "<p>8 rows × 31 columns</p>\n",
       "</div>"
      ],
      "text/plain": [
       "                Time            V1            V2            V3            V4  \\\n",
       "count  284807.000000  2.848070e+05  2.848070e+05  2.848070e+05  2.848070e+05   \n",
       "mean    94813.859575  3.919560e-15  5.688174e-16 -8.769071e-15  2.782312e-15   \n",
       "std     47488.145955  1.958696e+00  1.651309e+00  1.516255e+00  1.415869e+00   \n",
       "min         0.000000 -5.640751e+01 -7.271573e+01 -4.832559e+01 -5.683171e+00   \n",
       "25%     54201.500000 -9.203734e-01 -5.985499e-01 -8.903648e-01 -8.486401e-01   \n",
       "50%     84692.000000  1.810880e-02  6.548556e-02  1.798463e-01 -1.984653e-02   \n",
       "75%    139320.500000  1.315642e+00  8.037239e-01  1.027196e+00  7.433413e-01   \n",
       "max    172792.000000  2.454930e+00  2.205773e+01  9.382558e+00  1.687534e+01   \n",
       "\n",
       "                 V5            V6            V7            V8            V9  \\\n",
       "count  2.848070e+05  2.848070e+05  2.848070e+05  2.848070e+05  2.848070e+05   \n",
       "mean  -1.552563e-15  2.010663e-15 -1.694249e-15 -1.927028e-16 -3.137024e-15   \n",
       "std    1.380247e+00  1.332271e+00  1.237094e+00  1.194353e+00  1.098632e+00   \n",
       "min   -1.137433e+02 -2.616051e+01 -4.355724e+01 -7.321672e+01 -1.343407e+01   \n",
       "25%   -6.915971e-01 -7.682956e-01 -5.540759e-01 -2.086297e-01 -6.430976e-01   \n",
       "50%   -5.433583e-02 -2.741871e-01  4.010308e-02  2.235804e-02 -5.142873e-02   \n",
       "75%    6.119264e-01  3.985649e-01  5.704361e-01  3.273459e-01  5.971390e-01   \n",
       "max    3.480167e+01  7.330163e+01  1.205895e+02  2.000721e+01  1.559499e+01   \n",
       "\n",
       "       ...           V21           V22           V23           V24  \\\n",
       "count  ...  2.848070e+05  2.848070e+05  2.848070e+05  2.848070e+05   \n",
       "mean   ...  1.537294e-16  7.959909e-16  5.367590e-16  4.458112e-15   \n",
       "std    ...  7.345240e-01  7.257016e-01  6.244603e-01  6.056471e-01   \n",
       "min    ... -3.483038e+01 -1.093314e+01 -4.480774e+01 -2.836627e+00   \n",
       "25%    ... -2.283949e-01 -5.423504e-01 -1.618463e-01 -3.545861e-01   \n",
       "50%    ... -2.945017e-02  6.781943e-03 -1.119293e-02  4.097606e-02   \n",
       "75%    ...  1.863772e-01  5.285536e-01  1.476421e-01  4.395266e-01   \n",
       "max    ...  2.720284e+01  1.050309e+01  2.252841e+01  4.584549e+00   \n",
       "\n",
       "                V25           V26           V27           V28         Amount  \\\n",
       "count  2.848070e+05  2.848070e+05  2.848070e+05  2.848070e+05  284807.000000   \n",
       "mean   1.453003e-15  1.699104e-15 -3.660161e-16 -1.206049e-16      88.349619   \n",
       "std    5.212781e-01  4.822270e-01  4.036325e-01  3.300833e-01     250.120109   \n",
       "min   -1.029540e+01 -2.604551e+00 -2.256568e+01 -1.543008e+01       0.000000   \n",
       "25%   -3.171451e-01 -3.269839e-01 -7.083953e-02 -5.295979e-02       5.600000   \n",
       "50%    1.659350e-02 -5.213911e-02  1.342146e-03  1.124383e-02      22.000000   \n",
       "75%    3.507156e-01  2.409522e-01  9.104512e-02  7.827995e-02      77.165000   \n",
       "max    7.519589e+00  3.517346e+00  3.161220e+01  3.384781e+01   25691.160000   \n",
       "\n",
       "               Class  \n",
       "count  284807.000000  \n",
       "mean        0.001727  \n",
       "std         0.041527  \n",
       "min         0.000000  \n",
       "25%         0.000000  \n",
       "50%         0.000000  \n",
       "75%         0.000000  \n",
       "max         1.000000  \n",
       "\n",
       "[8 rows x 31 columns]"
      ]
     },
     "execution_count": 31,
     "metadata": {},
     "output_type": "execute_result"
    }
   ],
   "source": [
    "df.describe()"
   ]
  },
  {
   "cell_type": "code",
   "execution_count": 32,
   "metadata": {},
   "outputs": [
    {
     "data": {
      "text/plain": [
       "Time      0\n",
       "V1        0\n",
       "V2        0\n",
       "V3        0\n",
       "V4        0\n",
       "V5        0\n",
       "V6        0\n",
       "V7        0\n",
       "V8        0\n",
       "V9        0\n",
       "V10       0\n",
       "V11       0\n",
       "V12       0\n",
       "V13       0\n",
       "V14       0\n",
       "V15       0\n",
       "V16       0\n",
       "V17       0\n",
       "V18       0\n",
       "V19       0\n",
       "V20       0\n",
       "V21       0\n",
       "V22       0\n",
       "V23       0\n",
       "V24       0\n",
       "V25       0\n",
       "V26       0\n",
       "V27       0\n",
       "V28       0\n",
       "Amount    0\n",
       "Class     0\n",
       "dtype: int64"
      ]
     },
     "execution_count": 32,
     "metadata": {},
     "output_type": "execute_result"
    }
   ],
   "source": [
    "df.isnull().sum()"
   ]
  },
  {
   "cell_type": "code",
   "execution_count": 33,
   "metadata": {},
   "outputs": [],
   "source": [
    "df.dropna(inplace=True)"
   ]
  },
  {
   "cell_type": "code",
   "execution_count": 34,
   "metadata": {},
   "outputs": [
    {
     "data": {
      "text/plain": [
       "False"
      ]
     },
     "execution_count": 34,
     "metadata": {},
     "output_type": "execute_result"
    }
   ],
   "source": [
    "df.isnull().sum().any()"
   ]
  },
  {
   "cell_type": "code",
   "execution_count": 35,
   "metadata": {},
   "outputs": [
    {
     "data": {
      "text/plain": [
       "0    284315\n",
       "1       492\n",
       "Name: Class, dtype: int64"
      ]
     },
     "execution_count": 35,
     "metadata": {},
     "output_type": "execute_result"
    }
   ],
   "source": [
    "df.Class.value_counts()"
   ]
  },
  {
   "cell_type": "code",
   "execution_count": 36,
   "metadata": {},
   "outputs": [
    {
     "data": {
      "text/plain": [
       "0.001727485630620034"
      ]
     },
     "execution_count": 36,
     "metadata": {},
     "output_type": "execute_result"
    }
   ],
   "source": [
    "df.Class.sum()/len(df.Class == 1)"
   ]
  },
  {
   "cell_type": "code",
   "execution_count": 37,
   "metadata": {},
   "outputs": [
    {
     "data": {
      "text/plain": [
       "578.8760162601626"
      ]
     },
     "execution_count": 37,
     "metadata": {},
     "output_type": "execute_result"
    }
   ],
   "source": [
    "len(df.Class == 1)/df.Class.sum()"
   ]
  },
  {
   "cell_type": "code",
   "execution_count": 38,
   "metadata": {},
   "outputs": [
    {
     "data": {
      "image/png": "[encoded data removed]",
      "text/plain": [
       "<Figure size 432x288 with 1 Axes>"
      ]
     },
     "metadata": {},
     "output_type": "display_data"
    }
   ],
   "source": [
    "sns.set(style=\"whitegrid\")\n",
    "\n",
    "sns.countplot(x=\"Class\", data = df)\n",
    "plt.show()"
   ]
  },
  {
   "cell_type": "code",
   "execution_count": 39,
   "metadata": {},
   "outputs": [
    {
     "data": {
      "image/png": "[encoded data removed]",
      "text/plain": [
       "<Figure size 432x288 with 1 Axes>"
      ]
     },
     "metadata": {},
     "output_type": "display_data"
    }
   ],
   "source": [
    "sns.distplot(df.Amount)\n",
    "plt.xscale('log')"
   ]
  },
  {
   "cell_type": "code",
   "execution_count": 40,
   "metadata": {},
   "outputs": [
    {
     "data": {
      "image/png": "[encoded data removed]",
      "text/plain": [
       "<Figure size 432x288 with 1 Axes>"
      ]
     },
     "metadata": {},
     "output_type": "display_data"
    }
   ],
   "source": [
    "sns.boxplot(x = df['Class'], y = df['Amount'])\n",
    "plt.title('Amount - non-fraud - 0 VS fraudelent - 1')\n",
    "plt.show()"
   ]
  },
  {
   "cell_type": "code",
   "execution_count": 41,
   "metadata": {},
   "outputs": [
    {
     "data": {
      "image/png": "[encoded data removed]",
      "text/plain": [
       "<Figure size 432x288 with 1 Axes>"
      ]
     },
     "metadata": {},
     "output_type": "display_data"
    }
   ],
   "source": [
    "sns.boxplot(x = df['Class'], y = df['Amount'])\n",
    "plt.title('Amount - non-fraud - 0 VS fraudelent - 1')\n",
    "plt.yscale('log')\n",
    "plt.show()"
   ]
  },
  {
   "cell_type": "code",
   "execution_count": 42,
   "metadata": {},
   "outputs": [
    {
     "data": {
      "image/png": "[encoded data removed]",
      "text/plain": [
       "<Figure size 432x288 with 1 Axes>"
      ]
     },
     "metadata": {},
     "output_type": "display_data"
    }
   ],
   "source": [
    "sns.lineplot(x = range(len(df)), y = df['Time'])\n",
    "plt.show()"
   ]
  },
  {
   "cell_type": "code",
   "execution_count": 43,
   "metadata": {},
   "outputs": [
    {
     "data": {
      "text/plain": [
       "(0.0, 172792.0)"
      ]
     },
     "execution_count": 43,
     "metadata": {},
     "output_type": "execute_result"
    },
    {
     "data": {
      "image/png": "[encoded data removed]",
      "text/plain": [
       "<Figure size 432x288 with 1 Axes>"
      ]
     },
     "metadata": {},
     "output_type": "display_data"
    }
   ],
   "source": [
    "sns.distplot(df.Time)\n",
    "plt.xlim([min(df.Time), max(df.Time)])\n",
    "# plt.xlim(-10, 10)"
   ]
  },
  {
   "cell_type": "code",
   "execution_count": 44,
   "metadata": {},
   "outputs": [],
   "source": [
    "from sklearn.model_selection import train_test_split\n",
    "X = df.drop(['Class', 'Time'], axis = 1)\n",
    "y= df['Class']\n",
    "X_train, X_test, y_train, y_test = train_test_split(X, y,test_size = 0.25, random_state = 16, shuffle = True, stratify = y)"
   ]
  },
  {
   "cell_type": "code",
   "execution_count": 45,
   "metadata": {},
   "outputs": [],
   "source": [
    "dfb = df.copy()\n",
    "# AS THE RATIO BETWEEN THEM IS 492 WE HAVE TO DIVIDE THE NON-FRADULENT DATASET BY 492\n",
    "\n",
    "fraud = dfb.loc[df['Class'] == 1]\n",
    "non_fraud = dfb.loc[df['Class'] == 0][:492]"
   ]
  },
  {
   "cell_type": "code",
   "execution_count": 46,
   "metadata": {},
   "outputs": [
    {
     "data": {
      "text/html": [
       "<div>\n",
       "<style scoped>\n",
       "    .dataframe tbody tr th:only-of-type {\n",
       "        vertical-align: middle;\n",
       "    }\n",
       "\n",
       "    .dataframe tbody tr th {\n",
       "        vertical-align: top;\n",
       "    }\n",
       "\n",
       "    .dataframe thead th {\n",
       "        text-align: right;\n",
       "    }\n",
       "</style>\n",
       "<table border=\"1\" class=\"dataframe\">\n",
       "  <thead>\n",
       "    <tr style=\"text-align: right;\">\n",
       "      <th></th>\n",
       "      <th>Time</th>\n",
       "      <th>V1</th>\n",
       "      <th>V2</th>\n",
       "      <th>V3</th>\n",
       "      <th>V4</th>\n",
       "      <th>V5</th>\n",
       "      <th>V6</th>\n",
       "      <th>V7</th>\n",
       "      <th>V8</th>\n",
       "      <th>V9</th>\n",
       "      <th>...</th>\n",
       "      <th>V21</th>\n",
       "      <th>V22</th>\n",
       "      <th>V23</th>\n",
       "      <th>V24</th>\n",
       "      <th>V25</th>\n",
       "      <th>V26</th>\n",
       "      <th>V27</th>\n",
       "      <th>V28</th>\n",
       "      <th>Amount</th>\n",
       "      <th>Class</th>\n",
       "    </tr>\n",
       "  </thead>\n",
       "  <tbody>\n",
       "    <tr>\n",
       "      <th>541</th>\n",
       "      <td>406.0</td>\n",
       "      <td>-2.312227</td>\n",
       "      <td>1.951992</td>\n",
       "      <td>-1.609851</td>\n",
       "      <td>3.997906</td>\n",
       "      <td>-0.522188</td>\n",
       "      <td>-1.426545</td>\n",
       "      <td>-2.537387</td>\n",
       "      <td>1.391657</td>\n",
       "      <td>-2.770089</td>\n",
       "      <td>...</td>\n",
       "      <td>0.517232</td>\n",
       "      <td>-0.035049</td>\n",
       "      <td>-0.465211</td>\n",
       "      <td>0.320198</td>\n",
       "      <td>0.044519</td>\n",
       "      <td>0.177840</td>\n",
       "      <td>0.261145</td>\n",
       "      <td>-0.143276</td>\n",
       "      <td>0.00</td>\n",
       "      <td>1</td>\n",
       "    </tr>\n",
       "    <tr>\n",
       "      <th>623</th>\n",
       "      <td>472.0</td>\n",
       "      <td>-3.043541</td>\n",
       "      <td>-3.157307</td>\n",
       "      <td>1.088463</td>\n",
       "      <td>2.288644</td>\n",
       "      <td>1.359805</td>\n",
       "      <td>-1.064823</td>\n",
       "      <td>0.325574</td>\n",
       "      <td>-0.067794</td>\n",
       "      <td>-0.270953</td>\n",
       "      <td>...</td>\n",
       "      <td>0.661696</td>\n",
       "      <td>0.435477</td>\n",
       "      <td>1.375966</td>\n",
       "      <td>-0.293803</td>\n",
       "      <td>0.279798</td>\n",
       "      <td>-0.145362</td>\n",
       "      <td>-0.252773</td>\n",
       "      <td>0.035764</td>\n",
       "      <td>529.00</td>\n",
       "      <td>1</td>\n",
       "    </tr>\n",
       "    <tr>\n",
       "      <th>4920</th>\n",
       "      <td>4462.0</td>\n",
       "      <td>-2.303350</td>\n",
       "      <td>1.759247</td>\n",
       "      <td>-0.359745</td>\n",
       "      <td>2.330243</td>\n",
       "      <td>-0.821628</td>\n",
       "      <td>-0.075788</td>\n",
       "      <td>0.562320</td>\n",
       "      <td>-0.399147</td>\n",
       "      <td>-0.238253</td>\n",
       "      <td>...</td>\n",
       "      <td>-0.294166</td>\n",
       "      <td>-0.932391</td>\n",
       "      <td>0.172726</td>\n",
       "      <td>-0.087330</td>\n",
       "      <td>-0.156114</td>\n",
       "      <td>-0.542628</td>\n",
       "      <td>0.039566</td>\n",
       "      <td>-0.153029</td>\n",
       "      <td>239.93</td>\n",
       "      <td>1</td>\n",
       "    </tr>\n",
       "    <tr>\n",
       "      <th>6108</th>\n",
       "      <td>6986.0</td>\n",
       "      <td>-4.397974</td>\n",
       "      <td>1.358367</td>\n",
       "      <td>-2.592844</td>\n",
       "      <td>2.679787</td>\n",
       "      <td>-1.128131</td>\n",
       "      <td>-1.706536</td>\n",
       "      <td>-3.496197</td>\n",
       "      <td>-0.248778</td>\n",
       "      <td>-0.247768</td>\n",
       "      <td>...</td>\n",
       "      <td>0.573574</td>\n",
       "      <td>0.176968</td>\n",
       "      <td>-0.436207</td>\n",
       "      <td>-0.053502</td>\n",
       "      <td>0.252405</td>\n",
       "      <td>-0.657488</td>\n",
       "      <td>-0.827136</td>\n",
       "      <td>0.849573</td>\n",
       "      <td>59.00</td>\n",
       "      <td>1</td>\n",
       "    </tr>\n",
       "    <tr>\n",
       "      <th>6329</th>\n",
       "      <td>7519.0</td>\n",
       "      <td>1.234235</td>\n",
       "      <td>3.019740</td>\n",
       "      <td>-4.304597</td>\n",
       "      <td>4.732795</td>\n",
       "      <td>3.624201</td>\n",
       "      <td>-1.357746</td>\n",
       "      <td>1.713445</td>\n",
       "      <td>-0.496358</td>\n",
       "      <td>-1.282858</td>\n",
       "      <td>...</td>\n",
       "      <td>-0.379068</td>\n",
       "      <td>-0.704181</td>\n",
       "      <td>-0.656805</td>\n",
       "      <td>-1.632653</td>\n",
       "      <td>1.488901</td>\n",
       "      <td>0.566797</td>\n",
       "      <td>-0.010016</td>\n",
       "      <td>0.146793</td>\n",
       "      <td>1.00</td>\n",
       "      <td>1</td>\n",
       "    </tr>\n",
       "  </tbody>\n",
       "</table>\n",
       "<p>5 rows × 31 columns</p>\n",
       "</div>"
      ],
      "text/plain": [
       "        Time        V1        V2        V3        V4        V5        V6  \\\n",
       "541    406.0 -2.312227  1.951992 -1.609851  3.997906 -0.522188 -1.426545   \n",
       "623    472.0 -3.043541 -3.157307  1.088463  2.288644  1.359805 -1.064823   \n",
       "4920  4462.0 -2.303350  1.759247 -0.359745  2.330243 -0.821628 -0.075788   \n",
       "6108  6986.0 -4.397974  1.358367 -2.592844  2.679787 -1.128131 -1.706536   \n",
       "6329  7519.0  1.234235  3.019740 -4.304597  4.732795  3.624201 -1.357746   \n",
       "\n",
       "            V7        V8        V9  ...       V21       V22       V23  \\\n",
       "541  -2.537387  1.391657 -2.770089  ...  0.517232 -0.035049 -0.465211   \n",
       "623   0.325574 -0.067794 -0.270953  ...  0.661696  0.435477  1.375966   \n",
       "4920  0.562320 -0.399147 -0.238253  ... -0.294166 -0.932391  0.172726   \n",
       "6108 -3.496197 -0.248778 -0.247768  ...  0.573574  0.176968 -0.436207   \n",
       "6329  1.713445 -0.496358 -1.282858  ... -0.379068 -0.704181 -0.656805   \n",
       "\n",
       "           V24       V25       V26       V27       V28  Amount  Class  \n",
       "541   0.320198  0.044519  0.177840  0.261145 -0.143276    0.00      1  \n",
       "623  -0.293803  0.279798 -0.145362 -0.252773  0.035764  529.00      1  \n",
       "4920 -0.087330 -0.156114 -0.542628  0.039566 -0.153029  239.93      1  \n",
       "6108 -0.053502  0.252405 -0.657488 -0.827136  0.849573   59.00      1  \n",
       "6329 -1.632653  1.488901  0.566797 -0.010016  0.146793    1.00      1  \n",
       "\n",
       "[5 rows x 31 columns]"
      ]
     },
     "execution_count": 46,
     "metadata": {},
     "output_type": "execute_result"
    }
   ],
   "source": [
    "new_df = pd.concat([fraud, non_fraud])\n",
    "new_df.head()"
   ]
  },
  {
   "cell_type": "code",
   "execution_count": 47,
   "metadata": {},
   "outputs": [
    {
     "data": {
      "text/plain": [
       "<matplotlib.axes._subplots.AxesSubplot at 0x7fd5e479eb50>"
      ]
     },
     "execution_count": 47,
     "metadata": {},
     "output_type": "execute_result"
    },
    {
     "data": {
      "image/png": "[encoded data removed]",
      "text/plain": [
       "<Figure size 432x288 with 1 Axes>"
      ]
     },
     "metadata": {},
     "output_type": "display_data"
    }
   ],
   "source": [
    "sns.countplot('Class', data=new_df)"
   ]
  },
  {
   "cell_type": "code",
   "execution_count": 48,
   "metadata": {},
   "outputs": [
    {
     "data": {
      "text/plain": [
       "<matplotlib.axes._subplots.AxesSubplot at 0x7fd5e62bfd90>"
      ]
     },
     "execution_count": 48,
     "metadata": {},
     "output_type": "execute_result"
    },
    {
     "data": {
      "image/png": "[encoded data removed]",
      "text/plain": [
       "<Figure size 432x288 with 2 Axes>"
      ]
     },
     "metadata": {},
     "output_type": "display_data"
    }
   ],
   "source": [
    "corr = df.corr()\n",
    "sns.heatmap(corr,cmap='BrBG',)"
   ]
  },
  {
   "cell_type": "code",
   "execution_count": 49,
   "metadata": {},
   "outputs": [
    {
     "data": {
      "text/plain": [
       "<matplotlib.axes._subplots.AxesSubplot at 0x7fd5e47bdf70>"
      ]
     },
     "execution_count": 49,
     "metadata": {},
     "output_type": "execute_result"
    },
    {
     "data": {
      "image/png": "[encoded data removed]",
      "text/plain": [
       "<Figure size 432x288 with 2 Axes>"
      ]
     },
     "metadata": {},
     "output_type": "display_data"
    }
   ],
   "source": [
    "under_corr = new_df.corr()\n",
    "sns.heatmap(under_corr,cmap='BrBG',)"
   ]
  },
  {
   "cell_type": "code",
   "execution_count": 50,
   "metadata": {},
   "outputs": [
    {
     "data": {
      "text/plain": [
       "array([<matplotlib.axes._subplots.AxesSubplot object at 0x7fd5e624f880>,\n",
       "       <matplotlib.axes._subplots.AxesSubplot object at 0x7fd5d56b1a60>],\n",
       "      dtype=object)"
      ]
     },
     "execution_count": 50,
     "metadata": {},
     "output_type": "execute_result"
    },
    {
     "data": {
      "image/png": "[encoded data removed]",
      "text/plain": [
       "<Figure size 432x288 with 2 Axes>"
      ]
     },
     "metadata": {},
     "output_type": "display_data"
    }
   ],
   "source": [
    "df['Amount'].hist(by=df['Class'])"
   ]
  },
  {
   "cell_type": "code",
   "execution_count": 51,
   "metadata": {},
   "outputs": [
    {
     "data": {
      "image/png": "[encoded data removed]",
      "text/plain": [
       "<Figure size 1080x1080 with 36 Axes>"
      ]
     },
     "metadata": {},
     "output_type": "display_data"
    }
   ],
   "source": [
    "df.hist(figsize=(15,15))\n",
    "plt.show()"
   ]
  },
  {
   "cell_type": "code",
   "execution_count": 52,
   "metadata": {},
   "outputs": [
    {
     "name": "stdout",
     "output_type": "stream",
     "text": [
      "xtrain shape\n",
      "(199364, 30)\n",
      "xtest shape\n",
      "(85443, 30)\n"
     ]
    }
   ],
   "source": [
    "from sklearn.model_selection import train_test_split\n",
    "\n",
    "x = df[['Time', 'V1', 'V2', 'V3', 'V4', 'V5', 'V6', 'V7', 'V8', 'V9', 'V10',\n",
    "       'V11', 'V12', 'V13', 'V14', 'V15', 'V16', 'V17', 'V18', 'V19', 'V20',\n",
    "       'V21', 'V22', 'V23', 'V24', 'V25', 'V26', 'V27', 'V28', 'Amount']]\n",
    "y = df['Class']\n",
    "\n",
    "xtrain, xtest, ytrain, ytest = train_test_split(x, y, test_size=0.30, random_state=0)\n",
    "print('xtrain shape')\n",
    "print(xtrain.shape)\n",
    "print('xtest shape')\n",
    "print(xtest.shape)"
   ]
  },
  {
   "cell_type": "code",
   "execution_count": 53,
   "metadata": {},
   "outputs": [
    {
     "name": "stdout",
     "output_type": "stream",
     "text": [
      "RandomForestClassifier()\n"
     ]
    }
   ],
   "source": [
    "from sklearn.ensemble import RandomForestClassifier\n",
    "from sklearn import metrics\n",
    "\n",
    "rfmodel = RandomForestClassifier()\n",
    "rfmodel.fit(xtrain,ytrain)\n",
    "print(rfmodel)\n"
   ]
  },
  {
   "cell_type": "code",
   "execution_count": 54,
   "metadata": {},
   "outputs": [
    {
     "name": "stdout",
     "output_type": "stream",
     "text": [
      "confusion matrix\n",
      "[[85291     5]\n",
      " [   37   110]]\n",
      "classification report\n",
      "              precision    recall  f1-score   support\n",
      "\n",
      "           0       1.00      1.00      1.00     85296\n",
      "           1       0.96      0.75      0.84       147\n",
      "\n",
      "    accuracy                           1.00     85443\n",
      "   macro avg       0.98      0.87      0.92     85443\n",
      "weighted avg       1.00      1.00      1.00     85443\n",
      "\n",
      "Accuracy : 0.999508\n",
      "Area under the curve : 0.874120\n"
     ]
    }
   ],
   "source": [
    "ypredrf = rfmodel.predict(xtest)\n",
    "print('confusion matrix')\n",
    "print(metrics.confusion_matrix(ytest, ypredrf))\n",
    "print('classification report')\n",
    "print(metrics.classification_report(ytest, ypredrf))\n",
    "print('Accuracy : %f' % (metrics.accuracy_score(ytest, ypredrf)))\n",
    "print('Area under the curve : %f' % (metrics.roc_auc_score(ytest, ypredrf)))\n"
   ]
  },
  {
   "cell_type": "code",
   "execution_count": 55,
   "metadata": {},
   "outputs": [
    {
     "name": "stdout",
     "output_type": "stream",
     "text": [
      "confusion matrix\n",
      "[[85280    16]\n",
      " [   39   108]]\n",
      "classification report\n",
      "              precision    recall  f1-score   support\n",
      "\n",
      "           0       1.00      1.00      1.00     85296\n",
      "           1       0.87      0.73      0.80       147\n",
      "\n",
      "    accuracy                           1.00     85443\n",
      "   macro avg       0.94      0.87      0.90     85443\n",
      "weighted avg       1.00      1.00      1.00     85443\n",
      "\n",
      "-----------------------------------------------------------------------------------------\n",
      "Accuracy is :\n",
      "0.9993562960102056\n",
      "Area under the curve : 0.867253\n"
     ]
    }
   ],
   "source": [
    "from sklearn import ensemble\n",
    "\n",
    "params = {'n_estimators': 500, 'max_depth': 3, 'subsample': 0.5,\n",
    "          'learning_rate': 0.01, 'min_samples_leaf': 1, 'random_state': 3}\n",
    "clf = ensemble.GradientBoostingClassifier(**params)\n",
    "clf.fit(xtrain, ytrain) #trains\n",
    "y_pred = clf.predict(xtest)  #predicts\n",
    "print('confusion matrix')\n",
    "print(metrics.confusion_matrix(ytest, y_pred))\n",
    "print('classification report')\n",
    "print(metrics.classification_report(ytest, y_pred))\n",
    "print(\"-----------------------------------------------------------------------------------------\")\n",
    "print(\"Accuracy is :\")\n",
    "print(metrics.accuracy_score(ytest, y_pred))\n",
    "print('Area under the curve : %f' % (metrics.roc_auc_score(ytest, y_pred)))\n"
   ]
  },
  {
   "cell_type": "code",
   "execution_count": 65,
   "metadata": {},
   "outputs": [],
   "source": [
    "from xgboost import XGBClassifier\n",
    "xgb_model = XGBClassifier()"
   ]
  },
  {
   "cell_type": "code",
   "execution_count": 66,
   "metadata": {},
   "outputs": [
    {
     "name": "stdout",
     "output_type": "stream",
     "text": [
      "{'objective': 'binary:logistic', 'base_score': None, 'booster': None, 'colsample_bylevel': None, 'colsample_bynode': None, 'colsample_bytree': None, 'gamma': None, 'gpu_id': None, 'interaction_constraints': None, 'learning_rate': None, 'max_delta_step': None, 'max_depth': None, 'min_child_weight': None, 'monotone_constraints': None, 'n_jobs': None, 'num_parallel_tree': None, 'random_state': None, 'reg_alpha': None, 'reg_lambda': None, 'scale_pos_weight': None, 'subsample': None, 'tree_method': None, 'validate_parameters': None, 'verbosity': None}\n"
     ]
    }
   ],
   "source": [
    "print(xgb_model.get_xgb_params())"
   ]
  },
  {
   "cell_type": "code",
   "execution_count": 67,
   "metadata": {},
   "outputs": [
    {
     "name": "stdout",
     "output_type": "stream",
     "text": [
      "[0]\tvalidation_0-error:0.00036\tvalidation_1-error:0.00054\n",
      "[1]\tvalidation_0-error:0.00037\tvalidation_1-error:0.00061\n",
      "[2]\tvalidation_0-error:0.00032\tvalidation_1-error:0.00054\n",
      "[3]\tvalidation_0-error:0.00031\tvalidation_1-error:0.00052\n",
      "[4]\tvalidation_0-error:0.00030\tvalidation_1-error:0.00052\n",
      "[5]\tvalidation_0-error:0.00029\tvalidation_1-error:0.00050\n",
      "[6]\tvalidation_0-error:0.00029\tvalidation_1-error:0.00049\n",
      "[7]\tvalidation_0-error:0.00028\tvalidation_1-error:0.00049\n",
      "[8]\tvalidation_0-error:0.00028\tvalidation_1-error:0.00049\n",
      "[9]\tvalidation_0-error:0.00027\tvalidation_1-error:0.00048\n",
      "[10]\tvalidation_0-error:0.00027\tvalidation_1-error:0.00047\n",
      "[11]\tvalidation_0-error:0.00026\tvalidation_1-error:0.00048\n",
      "[12]\tvalidation_0-error:0.00026\tvalidation_1-error:0.00047\n",
      "[13]\tvalidation_0-error:0.00026\tvalidation_1-error:0.00047\n",
      "[14]\tvalidation_0-error:0.00026\tvalidation_1-error:0.00049\n",
      "[15]\tvalidation_0-error:0.00026\tvalidation_1-error:0.00050\n",
      "[16]\tvalidation_0-error:0.00025\tvalidation_1-error:0.00050\n",
      "[17]\tvalidation_0-error:0.00024\tvalidation_1-error:0.00050\n",
      "[18]\tvalidation_0-error:0.00024\tvalidation_1-error:0.00048\n",
      "[19]\tvalidation_0-error:0.00024\tvalidation_1-error:0.00049\n",
      "[20]\tvalidation_0-error:0.00023\tvalidation_1-error:0.00049\n",
      "[21]\tvalidation_0-error:0.00023\tvalidation_1-error:0.00048\n",
      "[22]\tvalidation_0-error:0.00022\tvalidation_1-error:0.00049\n",
      "[23]\tvalidation_0-error:0.00022\tvalidation_1-error:0.00049\n",
      "[24]\tvalidation_0-error:0.00020\tvalidation_1-error:0.00049\n",
      "[25]\tvalidation_0-error:0.00017\tvalidation_1-error:0.00047\n",
      "[26]\tvalidation_0-error:0.00017\tvalidation_1-error:0.00047\n",
      "[27]\tvalidation_0-error:0.00015\tvalidation_1-error:0.00048\n",
      "[28]\tvalidation_0-error:0.00013\tvalidation_1-error:0.00047\n",
      "[29]\tvalidation_0-error:0.00012\tvalidation_1-error:0.00047\n",
      "[30]\tvalidation_0-error:0.00012\tvalidation_1-error:0.00047\n",
      "[31]\tvalidation_0-error:0.00012\tvalidation_1-error:0.00047\n",
      "[32]\tvalidation_0-error:0.00010\tvalidation_1-error:0.00047\n",
      "[33]\tvalidation_0-error:0.00009\tvalidation_1-error:0.00047\n",
      "[34]\tvalidation_0-error:0.00009\tvalidation_1-error:0.00048\n",
      "[35]\tvalidation_0-error:0.00008\tvalidation_1-error:0.00046\n",
      "[36]\tvalidation_0-error:0.00006\tvalidation_1-error:0.00048\n",
      "[37]\tvalidation_0-error:0.00006\tvalidation_1-error:0.00047\n",
      "[38]\tvalidation_0-error:0.00006\tvalidation_1-error:0.00047\n",
      "[39]\tvalidation_0-error:0.00006\tvalidation_1-error:0.00046\n",
      "[40]\tvalidation_0-error:0.00004\tvalidation_1-error:0.00044\n",
      "[41]\tvalidation_0-error:0.00003\tvalidation_1-error:0.00044\n",
      "[42]\tvalidation_0-error:0.00003\tvalidation_1-error:0.00044\n",
      "[43]\tvalidation_0-error:0.00003\tvalidation_1-error:0.00044\n",
      "[44]\tvalidation_0-error:0.00003\tvalidation_1-error:0.00044\n",
      "[45]\tvalidation_0-error:0.00003\tvalidation_1-error:0.00044\n",
      "[46]\tvalidation_0-error:0.00001\tvalidation_1-error:0.00044\n",
      "[47]\tvalidation_0-error:0.00001\tvalidation_1-error:0.00047\n",
      "[48]\tvalidation_0-error:0.00001\tvalidation_1-error:0.00047\n",
      "[49]\tvalidation_0-error:0.00001\tvalidation_1-error:0.00046\n",
      "[50]\tvalidation_0-error:0.00001\tvalidation_1-error:0.00047\n",
      "[51]\tvalidation_0-error:0.00001\tvalidation_1-error:0.00047\n",
      "[52]\tvalidation_0-error:0.00001\tvalidation_1-error:0.00047\n",
      "[53]\tvalidation_0-error:0.00000\tvalidation_1-error:0.00047\n",
      "[54]\tvalidation_0-error:0.00000\tvalidation_1-error:0.00047\n",
      "[55]\tvalidation_0-error:0.00000\tvalidation_1-error:0.00047\n",
      "[56]\tvalidation_0-error:0.00000\tvalidation_1-error:0.00047\n",
      "[57]\tvalidation_0-error:0.00000\tvalidation_1-error:0.00048\n",
      "[58]\tvalidation_0-error:0.00000\tvalidation_1-error:0.00046\n",
      "[59]\tvalidation_0-error:0.00000\tvalidation_1-error:0.00044\n",
      "[60]\tvalidation_0-error:0.00000\tvalidation_1-error:0.00044\n",
      "[61]\tvalidation_0-error:0.00000\tvalidation_1-error:0.00044\n",
      "[62]\tvalidation_0-error:0.00000\tvalidation_1-error:0.00044\n",
      "[63]\tvalidation_0-error:0.00000\tvalidation_1-error:0.00043\n",
      "[64]\tvalidation_0-error:0.00000\tvalidation_1-error:0.00046\n",
      "[65]\tvalidation_0-error:0.00000\tvalidation_1-error:0.00044\n",
      "[66]\tvalidation_0-error:0.00000\tvalidation_1-error:0.00044\n",
      "[67]\tvalidation_0-error:0.00000\tvalidation_1-error:0.00047\n",
      "[68]\tvalidation_0-error:0.00000\tvalidation_1-error:0.00046\n",
      "[69]\tvalidation_0-error:0.00000\tvalidation_1-error:0.00046\n",
      "[70]\tvalidation_0-error:0.00000\tvalidation_1-error:0.00044\n",
      "[71]\tvalidation_0-error:0.00000\tvalidation_1-error:0.00043\n",
      "[72]\tvalidation_0-error:0.00000\tvalidation_1-error:0.00044\n",
      "[73]\tvalidation_0-error:0.00000\tvalidation_1-error:0.00044\n",
      "[74]\tvalidation_0-error:0.00000\tvalidation_1-error:0.00044\n",
      "[75]\tvalidation_0-error:0.00000\tvalidation_1-error:0.00044\n",
      "[76]\tvalidation_0-error:0.00000\tvalidation_1-error:0.00044\n",
      "[77]\tvalidation_0-error:0.00000\tvalidation_1-error:0.00043\n",
      "[78]\tvalidation_0-error:0.00000\tvalidation_1-error:0.00044\n",
      "[79]\tvalidation_0-error:0.00000\tvalidation_1-error:0.00044\n",
      "[80]\tvalidation_0-error:0.00000\tvalidation_1-error:0.00043\n",
      "[81]\tvalidation_0-error:0.00000\tvalidation_1-error:0.00043\n",
      "[82]\tvalidation_0-error:0.00000\tvalidation_1-error:0.00043\n",
      "[83]\tvalidation_0-error:0.00000\tvalidation_1-error:0.00043\n",
      "[84]\tvalidation_0-error:0.00000\tvalidation_1-error:0.00044\n",
      "[85]\tvalidation_0-error:0.00000\tvalidation_1-error:0.00044\n",
      "[86]\tvalidation_0-error:0.00000\tvalidation_1-error:0.00044\n",
      "[87]\tvalidation_0-error:0.00000\tvalidation_1-error:0.00044\n",
      "[88]\tvalidation_0-error:0.00000\tvalidation_1-error:0.00044\n",
      "[89]\tvalidation_0-error:0.00000\tvalidation_1-error:0.00044\n",
      "[90]\tvalidation_0-error:0.00000\tvalidation_1-error:0.00044\n",
      "[91]\tvalidation_0-error:0.00000\tvalidation_1-error:0.00044\n",
      "[92]\tvalidation_0-error:0.00000\tvalidation_1-error:0.00044\n",
      "[93]\tvalidation_0-error:0.00000\tvalidation_1-error:0.00044\n",
      "[94]\tvalidation_0-error:0.00000\tvalidation_1-error:0.00044\n",
      "[95]\tvalidation_0-error:0.00000\tvalidation_1-error:0.00044\n",
      "[96]\tvalidation_0-error:0.00000\tvalidation_1-error:0.00044\n",
      "[97]\tvalidation_0-error:0.00000\tvalidation_1-error:0.00044\n",
      "[98]\tvalidation_0-error:0.00000\tvalidation_1-error:0.00044\n",
      "[99]\tvalidation_0-error:0.00000\tvalidation_1-error:0.00046\n"
     ]
    },
    {
     "data": {
      "text/plain": [
       "XGBClassifier(base_score=0.5, booster='gbtree', colsample_bylevel=1,\n",
       "              colsample_bynode=1, colsample_bytree=1, gamma=0, gpu_id=-1,\n",
       "              importance_type='gain', interaction_constraints='',\n",
       "              learning_rate=0.300000012, max_delta_step=0, max_depth=6,\n",
       "              min_child_weight=1, missing=nan, monotone_constraints='()',\n",
       "              n_estimators=100, n_jobs=0, num_parallel_tree=1, random_state=0,\n",
       "              reg_alpha=0, reg_lambda=1, scale_pos_weight=1, subsample=1,\n",
       "              tree_method='exact', validate_parameters=1, verbosity=None)"
      ]
     },
     "execution_count": 67,
     "metadata": {},
     "output_type": "execute_result"
    }
   ],
   "source": [
    "xgb_model.fit(xtrain, ytrain, eval_metric=['error'], eval_set=[((xtrain, ytrain)),(xtest, ytest)])\n"
   ]
  },
  {
   "cell_type": "code",
   "execution_count": 68,
   "metadata": {},
   "outputs": [
    {
     "name": "stdout",
     "output_type": "stream",
     "text": [
      "confusion matrix\n",
      "[[85291     5]\n",
      " [   34   113]]\n",
      "classification report\n",
      "              precision    recall  f1-score   support\n",
      "\n",
      "           0       1.00      1.00      1.00     85296\n",
      "           1       0.96      0.77      0.85       147\n",
      "\n",
      "    accuracy                           1.00     85443\n",
      "   macro avg       0.98      0.88      0.93     85443\n",
      "weighted avg       1.00      1.00      1.00     85443\n",
      "\n",
      "-----------------------------------------------------------------------------------------\n",
      "Accuracy is :\n",
      "0.9995435553526912\n",
      "Area under the curve : 0.884324\n"
     ]
    }
   ],
   "source": [
    "from sklearn import metrics\n",
    "import warnings\n",
    "warnings.filterwarnings(\"ignore\")\n",
    "\n",
    "y_pred = xgb_model.predict(xtest)  #predicts\n",
    "print('confusion matrix')\n",
    "print(metrics.confusion_matrix(ytest, y_pred))\n",
    "print('classification report')\n",
    "print(metrics.classification_report(ytest, y_pred))\n",
    "print(\"-----------------------------------------------------------------------------------------\")\n",
    "print(\"Accuracy is :\")\n",
    "print(metrics.accuracy_score(ytest, y_pred))\n",
    "print('Area under the curve : %f' % (metrics.roc_auc_score(ytest, y_pred)))"
   ]
  },
  {
   "cell_type": "code",
   "execution_count": 72,
   "metadata": {},
   "outputs": [
    {
     "name": "stdout",
     "output_type": "stream",
     "text": [
      "Feature: 0, Score: 0.01468\n",
      "Feature: 1, Score: 0.01757\n",
      "Feature: 2, Score: 0.00976\n",
      "Feature: 3, Score: 0.01223\n",
      "Feature: 4, Score: 0.02764\n",
      "Feature: 5, Score: 0.01080\n",
      "Feature: 6, Score: 0.01184\n",
      "Feature: 7, Score: 0.02563\n",
      "Feature: 8, Score: 0.01838\n",
      "Feature: 9, Score: 0.02432\n",
      "Feature: 10, Score: 0.04842\n",
      "Feature: 11, Score: 0.01531\n",
      "Feature: 12, Score: 0.02217\n",
      "Feature: 13, Score: 0.02264\n",
      "Feature: 14, Score: 0.05721\n",
      "Feature: 15, Score: 0.01171\n",
      "Feature: 16, Score: 0.01252\n",
      "Feature: 17, Score: 0.41274\n",
      "Feature: 18, Score: 0.01819\n",
      "Feature: 19, Score: 0.01207\n",
      "Feature: 20, Score: 0.01390\n",
      "Feature: 21, Score: 0.02192\n",
      "Feature: 22, Score: 0.01195\n",
      "Feature: 23, Score: 0.01209\n",
      "Feature: 24, Score: 0.01910\n",
      "Feature: 25, Score: 0.01543\n",
      "Feature: 26, Score: 0.02921\n",
      "Feature: 27, Score: 0.02957\n",
      "Feature: 28, Score: 0.01996\n",
      "Feature: 29, Score: 0.02105\n"
     ]
    },
    {
     "data": {
      "image/png": "[encoded data removed]",
      "text/plain": [
       "<Figure size 432x288 with 1 Axes>"
      ]
     },
     "metadata": {},
     "output_type": "display_data"
    }
   ],
   "source": [
    "from matplotlib import pyplot\n",
    "xgimportance = xgb_model.feature_importances_\n",
    "# summarize feature importance\n",
    "for i,v in enumerate(xgimportance):\n",
    "\tprint('Feature: %0d, Score: %.5f' %(i,v))\n",
    "# plot feature importance\n",
    "pyplot.bar([x for x in range(len(xgimportance))], xgimportance)\n",
    "pyplot.show()"
   ]
  },
  {
   "cell_type": "code",
   "execution_count": null,
   "metadata": {},
   "outputs": [],
   "source": [
    "# new_df"
   ]
  },
  {
   "cell_type": "code",
   "execution_count": 73,
   "metadata": {},
   "outputs": [
    {
     "name": "stdout",
     "output_type": "stream",
     "text": [
      "xtrain shape\n",
      "(688, 30)\n",
      "xtest shape\n",
      "(296, 30)\n"
     ]
    }
   ],
   "source": [
    "x = new_df[['Time', 'V1', 'V2', 'V3', 'V4', 'V5', 'V6', 'V7', 'V8', 'V9', 'V10',\n",
    "       'V11', 'V12', 'V13', 'V14', 'V15', 'V16', 'V17', 'V18', 'V19', 'V20',\n",
    "       'V21', 'V22', 'V23', 'V24', 'V25', 'V26', 'V27', 'V28', 'Amount']]\n",
    "y = new_df['Class']\n",
    "\n",
    "xtrain, xtest, ytrain, ytest = train_test_split(x, y, test_size=0.30, random_state=0)\n",
    "print('xtrain shape')\n",
    "print(xtrain.shape)\n",
    "print('xtest shape')\n",
    "print(xtest.shape)"
   ]
  },
  {
   "cell_type": "code",
   "execution_count": 74,
   "metadata": {},
   "outputs": [
    {
     "name": "stdout",
     "output_type": "stream",
     "text": [
      "RandomForestClassifier()\n"
     ]
    }
   ],
   "source": [
    "rfmodeln = RandomForestClassifier()\n",
    "rfmodeln.fit(xtrain,ytrain)\n",
    "print(rfmodeln)"
   ]
  },
  {
   "cell_type": "code",
   "execution_count": 75,
   "metadata": {},
   "outputs": [
    {
     "name": "stdout",
     "output_type": "stream",
     "text": [
      "confusion matrix\n",
      "[[149   0]\n",
      " [  1 146]]\n",
      "classification report\n",
      "              precision    recall  f1-score   support\n",
      "\n",
      "           0       0.99      1.00      1.00       149\n",
      "           1       1.00      0.99      1.00       147\n",
      "\n",
      "    accuracy                           1.00       296\n",
      "   macro avg       1.00      1.00      1.00       296\n",
      "weighted avg       1.00      1.00      1.00       296\n",
      "\n",
      "Accuracy : 0.996622\n",
      "Area under the curve : 0.996599\n"
     ]
    }
   ],
   "source": [
    "ypredrfn = rfmodeln.predict(xtest)\n",
    "print('confusion matrix')\n",
    "print(metrics.confusion_matrix(ytest, ypredrfn))\n",
    "print('classification report')\n",
    "print(metrics.classification_report(ytest, ypredrfn))\n",
    "print('Accuracy : %f' % (metrics.accuracy_score(ytest, ypredrfn)))\n",
    "print('Area under the curve : %f' % (metrics.roc_auc_score(ytest, ypredrfn)))"
   ]
  },
  {
   "cell_type": "code",
   "execution_count": 76,
   "metadata": {},
   "outputs": [
    {
     "name": "stdout",
     "output_type": "stream",
     "text": [
      "confusion matrix\n",
      "[[149   0]\n",
      " [  0 147]]\n",
      "classification report\n",
      "              precision    recall  f1-score   support\n",
      "\n",
      "           0       1.00      1.00      1.00       149\n",
      "           1       1.00      1.00      1.00       147\n",
      "\n",
      "    accuracy                           1.00       296\n",
      "   macro avg       1.00      1.00      1.00       296\n",
      "weighted avg       1.00      1.00      1.00       296\n",
      "\n",
      "-----------------------------------------------------------------------------------------\n",
      "Accuracy is :\n",
      "1.0\n",
      "Area under the curve : 1.000000\n"
     ]
    }
   ],
   "source": [
    "#GradientBoostingClassifier\n",
    "params = {'n_estimators': 500, 'max_depth': 3, 'subsample': 0.5,\n",
    "          'learning_rate': 0.01, 'min_samples_leaf': 1, 'random_state': 3}\n",
    "clfn = ensemble.GradientBoostingClassifier(**params)\n",
    "clfn.fit(xtrain, ytrain) #trains\n",
    "y_predn = clfn.predict(xtest)  #predicts\n",
    "print('confusion matrix')\n",
    "print(metrics.confusion_matrix(ytest, y_predn))\n",
    "print('classification report')\n",
    "print(metrics.classification_report(ytest, y_predn))\n",
    "print(\"-----------------------------------------------------------------------------------------\")\n",
    "print(\"Accuracy is :\")\n",
    "print(metrics.accuracy_score(ytest, y_predn))\n",
    "print('Area under the curve : %f' % (metrics.roc_auc_score(ytest, y_predn)))"
   ]
  },
  {
   "cell_type": "code",
   "execution_count": 77,
   "metadata": {},
   "outputs": [],
   "source": [
    "xgb_modeln = XGBClassifier()"
   ]
  },
  {
   "cell_type": "code",
   "execution_count": 78,
   "metadata": {},
   "outputs": [
    {
     "name": "stdout",
     "output_type": "stream",
     "text": [
      "{'objective': 'binary:logistic', 'base_score': None, 'booster': None, 'colsample_bylevel': None, 'colsample_bynode': None, 'colsample_bytree': None, 'gamma': None, 'gpu_id': None, 'interaction_constraints': None, 'learning_rate': None, 'max_delta_step': None, 'max_depth': None, 'min_child_weight': None, 'monotone_constraints': None, 'n_jobs': None, 'num_parallel_tree': None, 'random_state': None, 'reg_alpha': None, 'reg_lambda': None, 'scale_pos_weight': None, 'subsample': None, 'tree_method': None, 'validate_parameters': None, 'verbosity': None}\n"
     ]
    }
   ],
   "source": [
    "print(xgb_modeln.get_xgb_params())"
   ]
  },
  {
   "cell_type": "code",
   "execution_count": 80,
   "metadata": {},
   "outputs": [
    {
     "name": "stdout",
     "output_type": "stream",
     "text": [
      "[0]\tvalidation_0-error:0.00000\tvalidation_1-error:0.00000\n",
      "[1]\tvalidation_0-error:0.00000\tvalidation_1-error:0.00000\n",
      "[2]\tvalidation_0-error:0.00000\tvalidation_1-error:0.00000\n",
      "[3]\tvalidation_0-error:0.00000\tvalidation_1-error:0.00000\n",
      "[4]\tvalidation_0-error:0.00000\tvalidation_1-error:0.00000\n",
      "[5]\tvalidation_0-error:0.00000\tvalidation_1-error:0.00000\n",
      "[6]\tvalidation_0-error:0.00000\tvalidation_1-error:0.00000\n",
      "[7]\tvalidation_0-error:0.00000\tvalidation_1-error:0.00000\n",
      "[8]\tvalidation_0-error:0.00000\tvalidation_1-error:0.00000\n",
      "[9]\tvalidation_0-error:0.00000\tvalidation_1-error:0.00000\n",
      "[10]\tvalidation_0-error:0.00000\tvalidation_1-error:0.00000\n",
      "[11]\tvalidation_0-error:0.00000\tvalidation_1-error:0.00000\n",
      "[12]\tvalidation_0-error:0.00000\tvalidation_1-error:0.00000\n",
      "[13]\tvalidation_0-error:0.00000\tvalidation_1-error:0.00000\n",
      "[14]\tvalidation_0-error:0.00000\tvalidation_1-error:0.00000\n",
      "[15]\tvalidation_0-error:0.00000\tvalidation_1-error:0.00000\n",
      "[16]\tvalidation_0-error:0.00000\tvalidation_1-error:0.00000\n",
      "[17]\tvalidation_0-error:0.00000\tvalidation_1-error:0.00000\n",
      "[18]\tvalidation_0-error:0.00000\tvalidation_1-error:0.00000\n",
      "[19]\tvalidation_0-error:0.00000\tvalidation_1-error:0.00000\n",
      "[20]\tvalidation_0-error:0.00000\tvalidation_1-error:0.00000\n",
      "[21]\tvalidation_0-error:0.00000\tvalidation_1-error:0.00000\n",
      "[22]\tvalidation_0-error:0.00000\tvalidation_1-error:0.00000\n",
      "[23]\tvalidation_0-error:0.00000\tvalidation_1-error:0.00000\n",
      "[24]\tvalidation_0-error:0.00000\tvalidation_1-error:0.00000\n",
      "[25]\tvalidation_0-error:0.00000\tvalidation_1-error:0.00000\n",
      "[26]\tvalidation_0-error:0.00000\tvalidation_1-error:0.00000\n",
      "[27]\tvalidation_0-error:0.00000\tvalidation_1-error:0.00000\n",
      "[28]\tvalidation_0-error:0.00000\tvalidation_1-error:0.00000\n",
      "[29]\tvalidation_0-error:0.00000\tvalidation_1-error:0.00000\n",
      "[30]\tvalidation_0-error:0.00000\tvalidation_1-error:0.00000\n",
      "[31]\tvalidation_0-error:0.00000\tvalidation_1-error:0.00000\n",
      "[32]\tvalidation_0-error:0.00000\tvalidation_1-error:0.00000\n",
      "[33]\tvalidation_0-error:0.00000\tvalidation_1-error:0.00000\n",
      "[34]\tvalidation_0-error:0.00000\tvalidation_1-error:0.00000\n",
      "[35]\tvalidation_0-error:0.00000\tvalidation_1-error:0.00000\n",
      "[36]\tvalidation_0-error:0.00000\tvalidation_1-error:0.00000\n",
      "[37]\tvalidation_0-error:0.00000\tvalidation_1-error:0.00000\n",
      "[38]\tvalidation_0-error:0.00000\tvalidation_1-error:0.00000\n",
      "[39]\tvalidation_0-error:0.00000\tvalidation_1-error:0.00000\n",
      "[40]\tvalidation_0-error:0.00000\tvalidation_1-error:0.00000\n",
      "[41]\tvalidation_0-error:0.00000\tvalidation_1-error:0.00000\n",
      "[42]\tvalidation_0-error:0.00000\tvalidation_1-error:0.00000\n",
      "[43]\tvalidation_0-error:0.00000\tvalidation_1-error:0.00000\n",
      "[44]\tvalidation_0-error:0.00000\tvalidation_1-error:0.00000\n",
      "[45]\tvalidation_0-error:0.00000\tvalidation_1-error:0.00000\n",
      "[46]\tvalidation_0-error:0.00000\tvalidation_1-error:0.00000\n",
      "[47]\tvalidation_0-error:0.00000\tvalidation_1-error:0.00000\n",
      "[48]\tvalidation_0-error:0.00000\tvalidation_1-error:0.00000\n",
      "[49]\tvalidation_0-error:0.00000\tvalidation_1-error:0.00000\n",
      "[50]\tvalidation_0-error:0.00000\tvalidation_1-error:0.00000\n",
      "[51]\tvalidation_0-error:0.00000\tvalidation_1-error:0.00000\n",
      "[52]\tvalidation_0-error:0.00000\tvalidation_1-error:0.00000\n",
      "[53]\tvalidation_0-error:0.00000\tvalidation_1-error:0.00000\n",
      "[54]\tvalidation_0-error:0.00000\tvalidation_1-error:0.00000\n",
      "[55]\tvalidation_0-error:0.00000\tvalidation_1-error:0.00000\n",
      "[56]\tvalidation_0-error:0.00000\tvalidation_1-error:0.00000\n",
      "[57]\tvalidation_0-error:0.00000\tvalidation_1-error:0.00000\n",
      "[58]\tvalidation_0-error:0.00000\tvalidation_1-error:0.00000\n",
      "[59]\tvalidation_0-error:0.00000\tvalidation_1-error:0.00000\n",
      "[60]\tvalidation_0-error:0.00000\tvalidation_1-error:0.00000\n",
      "[61]\tvalidation_0-error:0.00000\tvalidation_1-error:0.00000\n",
      "[62]\tvalidation_0-error:0.00000\tvalidation_1-error:0.00000\n",
      "[63]\tvalidation_0-error:0.00000\tvalidation_1-error:0.00000\n",
      "[64]\tvalidation_0-error:0.00000\tvalidation_1-error:0.00000\n",
      "[65]\tvalidation_0-error:0.00000\tvalidation_1-error:0.00000\n",
      "[66]\tvalidation_0-error:0.00000\tvalidation_1-error:0.00000\n",
      "[67]\tvalidation_0-error:0.00000\tvalidation_1-error:0.00000\n",
      "[68]\tvalidation_0-error:0.00000\tvalidation_1-error:0.00000\n",
      "[69]\tvalidation_0-error:0.00000\tvalidation_1-error:0.00000\n",
      "[70]\tvalidation_0-error:0.00000\tvalidation_1-error:0.00000\n",
      "[71]\tvalidation_0-error:0.00000\tvalidation_1-error:0.00000\n",
      "[72]\tvalidation_0-error:0.00000\tvalidation_1-error:0.00000\n",
      "[73]\tvalidation_0-error:0.00000\tvalidation_1-error:0.00000\n",
      "[74]\tvalidation_0-error:0.00000\tvalidation_1-error:0.00000\n",
      "[75]\tvalidation_0-error:0.00000\tvalidation_1-error:0.00000\n",
      "[76]\tvalidation_0-error:0.00000\tvalidation_1-error:0.00000\n",
      "[77]\tvalidation_0-error:0.00000\tvalidation_1-error:0.00000\n",
      "[78]\tvalidation_0-error:0.00000\tvalidation_1-error:0.00000\n",
      "[79]\tvalidation_0-error:0.00000\tvalidation_1-error:0.00000\n",
      "[80]\tvalidation_0-error:0.00000\tvalidation_1-error:0.00000\n",
      "[81]\tvalidation_0-error:0.00000\tvalidation_1-error:0.00000\n",
      "[82]\tvalidation_0-error:0.00000\tvalidation_1-error:0.00000\n",
      "[83]\tvalidation_0-error:0.00000\tvalidation_1-error:0.00000\n",
      "[84]\tvalidation_0-error:0.00000\tvalidation_1-error:0.00000\n",
      "[85]\tvalidation_0-error:0.00000\tvalidation_1-error:0.00000\n",
      "[86]\tvalidation_0-error:0.00000\tvalidation_1-error:0.00000\n",
      "[87]\tvalidation_0-error:0.00000\tvalidation_1-error:0.00000\n",
      "[88]\tvalidation_0-error:0.00000\tvalidation_1-error:0.00000\n",
      "[89]\tvalidation_0-error:0.00000\tvalidation_1-error:0.00000\n",
      "[90]\tvalidation_0-error:0.00000\tvalidation_1-error:0.00000\n",
      "[91]\tvalidation_0-error:0.00000\tvalidation_1-error:0.00000\n",
      "[92]\tvalidation_0-error:0.00000\tvalidation_1-error:0.00000\n",
      "[93]\tvalidation_0-error:0.00000\tvalidation_1-error:0.00000\n",
      "[94]\tvalidation_0-error:0.00000\tvalidation_1-error:0.00000\n",
      "[95]\tvalidation_0-error:0.00000\tvalidation_1-error:0.00000\n",
      "[96]\tvalidation_0-error:0.00000\tvalidation_1-error:0.00000\n",
      "[97]\tvalidation_0-error:0.00000\tvalidation_1-error:0.00000\n",
      "[98]\tvalidation_0-error:0.00000\tvalidation_1-error:0.00000\n",
      "[99]\tvalidation_0-error:0.00000\tvalidation_1-error:0.00000\n"
     ]
    },
    {
     "data": {
      "text/plain": [
       "XGBClassifier(base_score=0.5, booster='gbtree', colsample_bylevel=1,\n",
       "              colsample_bynode=1, colsample_bytree=1, gamma=0, gpu_id=-1,\n",
       "              importance_type='gain', interaction_constraints='',\n",
       "              learning_rate=0.300000012, max_delta_step=0, max_depth=6,\n",
       "              min_child_weight=1, missing=nan, monotone_constraints='()',\n",
       "              n_estimators=100, n_jobs=0, num_parallel_tree=1, random_state=0,\n",
       "              reg_alpha=0, reg_lambda=1, scale_pos_weight=1, subsample=1,\n",
       "              tree_method='exact', validate_parameters=1, verbosity=None)"
      ]
     },
     "execution_count": 80,
     "metadata": {},
     "output_type": "execute_result"
    }
   ],
   "source": [
    "xgb_modeln.fit(xtrain, ytrain, eval_metric=['error'], eval_set=[((xtrain, ytrain)),(xtest, ytest)])\n"
   ]
  },
  {
   "cell_type": "code",
   "execution_count": 81,
   "metadata": {},
   "outputs": [
    {
     "name": "stdout",
     "output_type": "stream",
     "text": [
      "confusion matrix\n",
      "[[149   0]\n",
      " [  0 147]]\n",
      "classification report\n",
      "              precision    recall  f1-score   support\n",
      "\n",
      "           0       1.00      1.00      1.00       149\n",
      "           1       1.00      1.00      1.00       147\n",
      "\n",
      "    accuracy                           1.00       296\n",
      "   macro avg       1.00      1.00      1.00       296\n",
      "weighted avg       1.00      1.00      1.00       296\n",
      "\n",
      "-----------------------------------------------------------------------------------------\n",
      "Accuracy is :\n",
      "1.0\n",
      "Area under the curve : 1.000000\n"
     ]
    }
   ],
   "source": [
    "y_predn = xgb_modeln.predict(xtest)  #predicts\n",
    "print('confusion matrix')\n",
    "print(metrics.confusion_matrix(ytest, y_predn))\n",
    "print('classification report')\n",
    "print(metrics.classification_report(ytest, y_predn))\n",
    "print(\"-----------------------------------------------------------------------------------------\")\n",
    "print(\"Accuracy is :\")\n",
    "print(metrics.accuracy_score(ytest, y_predn))\n",
    "print('Area under the curve : %f' % (metrics.roc_auc_score(ytest, y_predn)))"
   ]
  },
  {
   "cell_type": "code",
   "execution_count": 83,
   "metadata": {},
   "outputs": [
    {
     "name": "stdout",
     "output_type": "stream",
     "text": [
      "Feature: 0, Score: 1.00000\n",
      "Feature: 1, Score: 0.00000\n",
      "Feature: 2, Score: 0.00000\n",
      "Feature: 3, Score: 0.00000\n",
      "Feature: 4, Score: 0.00000\n",
      "Feature: 5, Score: 0.00000\n",
      "Feature: 6, Score: 0.00000\n",
      "Feature: 7, Score: 0.00000\n",
      "Feature: 8, Score: 0.00000\n",
      "Feature: 9, Score: 0.00000\n",
      "Feature: 10, Score: 0.00000\n",
      "Feature: 11, Score: 0.00000\n",
      "Feature: 12, Score: 0.00000\n",
      "Feature: 13, Score: 0.00000\n",
      "Feature: 14, Score: 0.00000\n",
      "Feature: 15, Score: 0.00000\n",
      "Feature: 16, Score: 0.00000\n",
      "Feature: 17, Score: 0.00000\n",
      "Feature: 18, Score: 0.00000\n",
      "Feature: 19, Score: 0.00000\n",
      "Feature: 20, Score: 0.00000\n",
      "Feature: 21, Score: 0.00000\n",
      "Feature: 22, Score: 0.00000\n",
      "Feature: 23, Score: 0.00000\n",
      "Feature: 24, Score: 0.00000\n",
      "Feature: 25, Score: 0.00000\n",
      "Feature: 26, Score: 0.00000\n",
      "Feature: 27, Score: 0.00000\n",
      "Feature: 28, Score: 0.00000\n",
      "Feature: 29, Score: 0.00000\n"
     ]
    },
    {
     "data": {
      "image/png": "[encoded data removed]",
      "text/plain": [
       "<Figure size 432x288 with 1 Axes>"
      ]
     },
     "metadata": {},
     "output_type": "display_data"
    }
   ],
   "source": [
    "xgimportancen = xgb_modeln.feature_importances_\n",
    "# summarize feature importance\n",
    "for i,v in enumerate(xgimportancen):\n",
    "\tprint('Feature: %0d, Score: %.5f' % (i,v))\n",
    "# plot feature importance\n",
    "pyplot.bar([x for x in range(len(xgimportancen))], xgimportancen)\n",
    "pyplot.show()"
   ]
  },
  {
   "cell_type": "code",
   "execution_count": null,
   "metadata": {},
   "outputs": [],
   "source": []
  },
  {
   "cell_type": "code",
   "execution_count": null,
   "metadata": {},
   "outputs": [],
   "source": []
  },
  {
   "cell_type": "code",
   "execution_count": null,
   "metadata": {},
   "outputs": [],
   "source": []
  },
  {
   "cell_type": "code",
   "execution_count": null,
   "metadata": {},
   "outputs": [],
   "source": []
  },
  {
   "cell_type": "code",
   "execution_count": null,
   "metadata": {},
   "outputs": [],
   "source": []
  },
  {
   "cell_type": "code",
   "execution_count": null,
   "metadata": {},
   "outputs": [],
   "source": []
  },
  {
   "cell_type": "code",
   "execution_count": null,
   "metadata": {},
   "outputs": [],
   "source": []
  },
  {
   "cell_type": "code",
   "execution_count": null,
   "metadata": {},
   "outputs": [],
   "source": []
  },
  {
   "cell_type": "code",
   "execution_count": null,
   "metadata": {},
   "outputs": [],
   "source": []
  }
 ],
 "metadata": {
  "kernelspec": {
   "display_name": "Python 3",
   "language": "python",
   "name": "python3"
  },
  "language_info": {
   "codemirror_mode": {
    "name": "ipython",
    "version": 3
   },
   "file_extension": ".py",
   "mimetype": "text/x-python",
   "name": "python",
   "nbconvert_exporter": "python",
   "pygments_lexer": "ipython3",
   "version": "3.8.5"
  }
 },
 "nbformat": 4,
 "nbformat_minor": 4
}
